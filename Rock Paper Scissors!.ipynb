{
 "cells": [
  {
   "cell_type": "markdown",
   "metadata": {},
   "source": [
    "# Rock Paper Scissors"
   ]
  },
  {
   "cell_type": "markdown",
   "metadata": {},
   "source": [
    "Random has many tools that can be used to randomize the computer’s actions in the game."
   ]
  },
  {
   "cell_type": "code",
   "execution_count": 1,
   "metadata": {},
   "outputs": [],
   "source": [
    "import random               # using it to generate computer choices"
   ]
  },
  {
   "cell_type": "markdown",
   "metadata": {},
   "source": [
    "Play Several Games in a Row\n",
    "\n",
    "- Loops are a great way to create recurring events. In particular, you can use a while loop to play indefinitely\n",
    "\n",
    "Take User Input\n",
    "\n",
    "- Users need to be able to choose their actions, the first logical thing you need is a way to take in user input.\n",
    "- The user needs to be able choose an action and therefore, we need to assign that choice to a variable\n",
    "\n",
    "Computer chooses\n",
    "\n",
    "- Time can be saved using random.choice where the computer can choose a random action  \n",
    "- You chose rock, computer chose paper.\n",
    "\n",
    "Determine a Winner\n",
    "- Both players have made a choice you just need a way to decide who wins. Using an if … elif … else block, you can compare players’ choices and determine a winner\n",
    "- By checking the tie condition first, you’re able to know what the computer chose with only two conditional checks of computer_action.\n",
    "\n",
    "Play again:\n",
    "\n",
    "-  It’s important to check if the user wants to play again and to break if they don’t otherwise the user would be forced to play until they terminated the console using Ctrl+C\n"
   ]
  },
  {
   "cell_type": "code",
   "execution_count": 2,
   "metadata": {},
   "outputs": [
    {
     "name": "stdout",
     "output_type": "stream",
     "text": [
      "\n",
      "You chose paper, computer chose scissors.\n",
      "\n",
      "Scissors cuts paper! You lose.\n",
      "\n",
      "You chose rock, computer chose rock.\n",
      "\n",
      "Both players selected rock. It's a tie!\n"
     ]
    }
   ],
   "source": [
    "while True:\n",
    "    #user input\n",
    "    user_action = input(\"Enter a choice (rock, paper, scissors): \") #User enters their selection and computer decides what to do\n",
    "    \n",
    "   # computer chooses \n",
    "    possible_actions = [\"rock\", \"paper\", \"scissors\"]\n",
    "    \n",
    "    #computer action \n",
    "    computer_action = random.choice(possible_actions)   #computer selects a random  action using random.choice \n",
    "    \n",
    "    # print the choices that the user and the computer made:\n",
    "    print(f\"\\nYou chose {user_action}, computer chose {computer_action}.\\n\")\n",
    "    \n",
    "    #Determine a Winner\n",
    "    if user_action == computer_action:\n",
    "        print(f\"Both players selected {user_action}. It's a tie!\") #in the event that its a tie and user & computer choose paper \n",
    "    elif user_action == \"rock\":\n",
    "        if computer_action == \"scissors\":\n",
    "            print(\"Rock smashes scissors! You win!\")\n",
    "        else:\n",
    "            print(\"Paper covers rock! You lose.\")\n",
    "    elif user_action == \"paper\":\n",
    "        if computer_action == \"rock\":\n",
    "            print(\"Paper covers rock! You win!\")\n",
    "        else:\n",
    "            print(\"Scissors cuts paper! You lose.\")\n",
    "    elif user_action == \"scissors\":\n",
    "        if computer_action == \"paper\":\n",
    "            print(\"Scissors cuts paper! You win!\")\n",
    "        else:\n",
    "            print(\"Rock smashes scissors! You lose.\")\n",
    "\n",
    "    play_again = input(\"Play again? (y/n): \")\n",
    "    if play_again.lower() != \"y\":\n",
    "        break"
   ]
  },
  {
   "cell_type": "code",
   "execution_count": null,
   "metadata": {},
   "outputs": [],
   "source": []
  }
 ],
 "metadata": {
  "kernelspec": {
   "display_name": "gputest",
   "language": "python",
   "name": "gputest"
  },
  "language_info": {
   "codemirror_mode": {
    "name": "ipython",
    "version": 3
   },
   "file_extension": ".py",
   "mimetype": "text/x-python",
   "name": "python",
   "nbconvert_exporter": "python",
   "pygments_lexer": "ipython3",
   "version": "3.7.9"
  }
 },
 "nbformat": 4,
 "nbformat_minor": 4
}
